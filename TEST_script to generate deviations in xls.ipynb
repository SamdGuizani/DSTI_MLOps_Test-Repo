{
 "cells": [
  {
   "cell_type": "code",
   "execution_count": 2,
   "id": "5bd86f92",
   "metadata": {},
   "outputs": [],
   "source": [
    "import pandas as pd\n",
    "import sys\n",
    "import os"
   ]
  },
  {
   "cell_type": "code",
   "execution_count": 3,
   "id": "b8468be0",
   "metadata": {},
   "outputs": [
    {
     "name": "stdout",
     "output_type": "stream",
     "text": [
      "c:/Users/SamdGuizani/OneDrive - Data ScienceTech Institute/Documents/DSTI_MSc DS and AI/02-Foundation/06-MLOps/GitHub Tests/DSTI_MLOps_Test-Repo\n"
     ]
    }
   ],
   "source": [
    "current_folder = os.getcwd()\n",
    "current_folder = current_folder.replace(\"\\\\\", \"/\")\n",
    "print(current_folder)"
   ]
  },
  {
   "cell_type": "code",
   "execution_count": 4,
   "id": "cfccff94",
   "metadata": {},
   "outputs": [
    {
     "data": {
      "text/plain": [
       "'c:/Users/SamdGuizani/OneDrive - Data ScienceTech Institute/Documents/DSTI_MSc DS and AI/02-Foundation/06-MLOps/GitHub Tests/DSTI_MLOps_Test-Repo'"
      ]
     },
     "execution_count": 4,
     "metadata": {},
     "output_type": "execute_result"
    }
   ],
   "source": [
    "current_folder.replace(\"\\\\\", \"/\")"
   ]
  },
  {
   "cell_type": "code",
   "execution_count": 5,
   "id": "b2a51fbd",
   "metadata": {},
   "outputs": [],
   "source": [
    "# Regenerate the 5 deviation cases with batch/product details added *only if* included in the key columns\n",
    "\n",
    "deviation_data_with_products = [\n",
    "    {\n",
    "        \"What\": \"Incorrect torque applied during vial capping for Batch ZYX234\",\n",
    "        \"When\": \"July 7, 2025, 2:15 PM\",\n",
    "        \"Where\": \"Capping Line A, Sterile Facility\",\n",
    "        \"Who\": \"John Rivera (Line Operator), supervised by Naomi Ellis (Shift Lead)\",\n",
    "        \"How\": \"Torque settings manually adjusted outside validated range\",\n",
    "        \"Why\": \"Operator misinterpreted the setup sheet\",\n",
    "        \"Contingency Actions\": \"100% manual reinspection initiated, Batch ZYX234 placed on hold, SOP updated for clarity\",\n",
    "        \"Deviation Description\": \"On July 7, 2025, at 2:15 PM, during operations on Capping Line A in the Sterile Facility, John Rivera adjusted the torque settings outside the validated range for Batch ZYX234 due to a misinterpretation of the setup sheet. Naomi Ellis, the shift lead, did not verify the torque setting. A 100% manual reinspection was initiated, Batch ZYX234 placed on hold, and the SOP was updated for clarity.\"\n",
    "    },\n",
    "    {\n",
    "        \"What\": \"OOS result in endotoxin testing of Batch B2001\",\n",
    "        \"When\": \"July 8, 2025, 10:50 AM\",\n",
    "        \"Where\": \"Microbiology QC Lab\",\n",
    "        \"Who\": \"Elena Petrov, QC Analyst\",\n",
    "        \"How\": \"LAL test exceeded acceptable endotoxin limit\",\n",
    "        \"Why\": \"Potential contamination, root cause under investigation\",\n",
    "        \"Contingency Actions\": \"Batch B2001 held, retesting initiated, lab environment swabbed\",\n",
    "        \"Deviation Description\": \"On July 8, 2025, at 10:50 AM in the Microbiology QC Lab, QC Analyst Elena Petrov recorded an OOS result during endotoxin testing for Batch B2001. The LAL test exceeded the acceptable limit. Potential contamination is suspected, and the root cause is under investigation. Batch B2001 was placed on hold, retesting was initiated, and the lab environment was swabbed.\"\n",
    "    },\n",
    "    {\n",
    "        \"What\": \"Humidity excursion during capsule filling\",\n",
    "        \"When\": \"July 8, 2025, 3:20 PM\",\n",
    "        \"Where\": \"Encapsulation Room 2, Solid Dose Area\",\n",
    "        \"Who\": \"Michael Tan (Operator), Julian Lee (Environmental Monitoring Technician)\",\n",
    "        \"How\": \"Room humidity rose to 68% RH for 45 minutes\",\n",
    "        \"Why\": \"HVAC filter blocked, leading to poor control\",\n",
    "        \"Contingency Actions\": \"Capsule shells quarantined, filter replaced, environmental logs reviewed\",\n",
    "        \"Deviation Description\": \"On July 8, 2025, at 3:20 PM in Encapsulation Room 2, Michael Tan was operating the capsule filling equipment while Julian Lee monitored the environment. Humidity levels rose to 68% RH for 45 minutes due to a blocked HVAC filter. Capsule shells were quarantined, the filter was replaced, and environmental logs were reviewed.\"\n",
    "    },\n",
    "    {\n",
    "        \"What\": \"Crimp defect observed during in-process check for Batch C3478\",\n",
    "        \"When\": \"July 9, 2025, 11:40 AM\",\n",
    "        \"Where\": \"Sterile Line 3, Filling Department\",\n",
    "        \"Who\": \"Tamara Singh, QA In-Process Inspector\",\n",
    "        \"How\": \"Defective crimp seal on 3 vials in sample\",\n",
    "        \"Why\": \"Suspected misalignment in crimping tool\",\n",
    "        \"Contingency Actions\": \"Batch C3478 quarantined, tool recalibrated, trending initiated\",\n",
    "        \"Deviation Description\": \"On July 9, 2025, at 11:40 AM on Sterile Line 3, QA Inspector Tamara Singh identified defective crimp seals on three vials during an in-process check for Batch C3478. The suspected cause was misalignment of the crimping tool. Batch C3478 was quarantined, the tool recalibrated, and defect trending was initiated.\"\n",
    "    },\n",
    "    {\n",
    "        \"What\": \"API weighing for Batch D9083 performed without secondary verification\",\n",
    "        \"When\": \"July 10, 2025, 8:00 AM\",\n",
    "        \"Where\": \"Dispensary A, Warehouse 1\",\n",
    "        \"Who\": \"Oscar Mendez, Warehouse Technician\",\n",
    "        \"How\": \"No second check recorded in logbook\",\n",
    "        \"Why\": \"Secondary operator not available at time of weighing\",\n",
    "        \"Contingency Actions\": \"Batch D9083 not released, QA notified, retraining issued\",\n",
    "        \"Deviation Description\": \"On July 10, 2025, at 8:00 AM in Dispensary A, Warehouse Technician Oscar Mendez performed API weighing for Batch D9083 without secondary verification. A second operator was not available, and no check was recorded in the logbook. Batch D9083 was not released, QA was notified, and retraining was issued.\"\n",
    "    }\n",
    "]\n",
    "\n",
    "# Create DataFrame and save to Excel\n",
    "df_with_products = pd.DataFrame(deviation_data_with_products)\n",
    "df_with_products.to_excel(\"excel_path_with_products.xlsx\", index=False)\n",
    "\n"
   ]
  }
 ],
 "metadata": {
  "kernelspec": {
   "display_name": "MLOps_env",
   "language": "python",
   "name": "python3"
  },
  "language_info": {
   "codemirror_mode": {
    "name": "ipython",
    "version": 3
   },
   "file_extension": ".py",
   "mimetype": "text/x-python",
   "name": "python",
   "nbconvert_exporter": "python",
   "pygments_lexer": "ipython3",
   "version": "3.13.5"
  }
 },
 "nbformat": 4,
 "nbformat_minor": 5
}
